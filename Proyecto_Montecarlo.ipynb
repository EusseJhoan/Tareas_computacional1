{
  "nbformat": 4,
  "nbformat_minor": 0,
  "metadata": {
    "colab": {
      "name": "Proyecto_Montecarlo.ipynb",
      "provenance": [],
      "collapsed_sections": []
    },
    "kernelspec": {
      "name": "python3",
      "display_name": "Python 3"
    }
  },
  "cells": [
    {
      "cell_type": "markdown",
      "metadata": {
        "id": "l2Kx9iqQ4ToX",
        "colab_type": "text"
      },
      "source": [
        "# With this notebook we will:\n",
        "## 1. Install packages needed for root\n",
        "## 2. Download a binary root that compiled in google drive \"colaboratory\" environement\n",
        "## 3. Modify the PATH in order to tell python where to look for pyROOT\n",
        "## 4. Finally, a basic analysis example with pyROOT\n",
        "\n",
        "##### Author: Jose Ruiz\n",
        "##### Maintainer: Jose Ruiz\n",
        "##### Developed at: Universidad de Antioquia\n"
      ]
    },
    {
      "cell_type": "markdown",
      "metadata": {
        "id": "C1gPEaTg6fLl",
        "colab_type": "text"
      },
      "source": [
        "### 1. Install packages needed for root"
      ]
    },
    {
      "cell_type": "code",
      "metadata": {
        "id": "gYEA4UKNplb6",
        "colab_type": "code",
        "colab": {
          "base_uri": "https://localhost:8080/",
          "height": 1000
        },
        "outputId": "51e0cf40-cff0-4d1d-cb7c-e34f67e23ed9"
      },
      "source": [
        "!apt-get install git dpkg-dev cmake g++ gcc binutils libx11-dev libxpm-dev libxft-dev libxext-dev tar gfortran subversion"
      ],
      "execution_count": null,
      "outputs": [
        {
          "output_type": "stream",
          "text": [
            "Reading package lists... Done\n",
            "Building dependency tree       \n",
            "Reading state information... Done\n",
            "libxext-dev is already the newest version (2:1.3.3-1).\n",
            "libxext-dev set to manually installed.\n",
            "libxft-dev is already the newest version (2.3.2-1).\n",
            "cmake is already the newest version (3.10.2-1ubuntu2.18.04.1).\n",
            "dpkg-dev is already the newest version (1.19.0.5ubuntu2.3).\n",
            "dpkg-dev set to manually installed.\n",
            "g++ is already the newest version (4:7.4.0-1ubuntu2.3).\n",
            "g++ set to manually installed.\n",
            "gcc is already the newest version (4:7.4.0-1ubuntu2.3).\n",
            "gcc set to manually installed.\n",
            "gfortran is already the newest version (4:7.4.0-1ubuntu2.3).\n",
            "git is already the newest version (1:2.17.1-1ubuntu0.7).\n",
            "libx11-dev is already the newest version (2:1.6.4-3ubuntu0.2).\n",
            "libx11-dev set to manually installed.\n",
            "tar is already the newest version (1.29b-2ubuntu0.1).\n",
            "The following package was automatically installed and is no longer required:\n",
            "  libnvidia-common-440\n",
            "Use 'apt autoremove' to remove it.\n",
            "The following additional packages will be installed:\n",
            "  binutils-common binutils-x86-64-linux-gnu libapr1 libaprutil1 libbinutils\n",
            "  libserf-1-1 libsvn1\n",
            "Suggested packages:\n",
            "  binutils-doc db5.3-util libapache2-mod-svn subversion-tools\n",
            "The following NEW packages will be installed:\n",
            "  libapr1 libaprutil1 libserf-1-1 libsvn1 libxpm-dev subversion\n",
            "The following packages will be upgraded:\n",
            "  binutils binutils-common binutils-x86-64-linux-gnu libbinutils\n",
            "4 upgraded, 6 newly installed, 0 to remove and 31 not upgraded.\n",
            "Need to get 4,851 kB of archives.\n",
            "After this operation, 10.1 MB of additional disk space will be used.\n",
            "Get:1 http://archive.ubuntu.com/ubuntu bionic-updates/main amd64 binutils-x86-64-linux-gnu amd64 2.30-21ubuntu1~18.04.3 [1,839 kB]\n",
            "Get:2 http://archive.ubuntu.com/ubuntu bionic-updates/main amd64 binutils-common amd64 2.30-21ubuntu1~18.04.3 [196 kB]\n",
            "Get:3 http://archive.ubuntu.com/ubuntu bionic-updates/main amd64 binutils amd64 2.30-21ubuntu1~18.04.3 [3,388 B]\n",
            "Get:4 http://archive.ubuntu.com/ubuntu bionic-updates/main amd64 libbinutils amd64 2.30-21ubuntu1~18.04.3 [488 kB]\n",
            "Get:5 http://archive.ubuntu.com/ubuntu bionic/main amd64 libapr1 amd64 1.6.3-2 [90.9 kB]\n",
            "Get:6 http://archive.ubuntu.com/ubuntu bionic/main amd64 libaprutil1 amd64 1.6.1-2 [84.4 kB]\n",
            "Get:7 http://archive.ubuntu.com/ubuntu bionic/universe amd64 libserf-1-1 amd64 1.3.9-6 [44.4 kB]\n",
            "Get:8 http://archive.ubuntu.com/ubuntu bionic/universe amd64 libsvn1 amd64 1.9.7-4ubuntu1 [1,183 kB]\n",
            "Get:9 http://archive.ubuntu.com/ubuntu bionic/main amd64 libxpm-dev amd64 1:3.5.12-1 [87.4 kB]\n",
            "Get:10 http://archive.ubuntu.com/ubuntu bionic/universe amd64 subversion amd64 1.9.7-4ubuntu1 [834 kB]\n",
            "Fetched 4,851 kB in 0s (29.4 MB/s)\n",
            "(Reading database ... 144465 files and directories currently installed.)\n",
            "Preparing to unpack .../0-binutils-x86-64-linux-gnu_2.30-21ubuntu1~18.04.3_amd64.deb ...\n",
            "Unpacking binutils-x86-64-linux-gnu (2.30-21ubuntu1~18.04.3) over (2.30-21ubuntu1~18.04.2) ...\n",
            "Preparing to unpack .../1-binutils-common_2.30-21ubuntu1~18.04.3_amd64.deb ...\n",
            "Unpacking binutils-common:amd64 (2.30-21ubuntu1~18.04.3) over (2.30-21ubuntu1~18.04.2) ...\n",
            "Preparing to unpack .../2-binutils_2.30-21ubuntu1~18.04.3_amd64.deb ...\n",
            "Unpacking binutils (2.30-21ubuntu1~18.04.3) over (2.30-21ubuntu1~18.04.2) ...\n",
            "Preparing to unpack .../3-libbinutils_2.30-21ubuntu1~18.04.3_amd64.deb ...\n",
            "Unpacking libbinutils:amd64 (2.30-21ubuntu1~18.04.3) over (2.30-21ubuntu1~18.04.2) ...\n",
            "Selecting previously unselected package libapr1:amd64.\n",
            "Preparing to unpack .../4-libapr1_1.6.3-2_amd64.deb ...\n",
            "Unpacking libapr1:amd64 (1.6.3-2) ...\n",
            "Selecting previously unselected package libaprutil1:amd64.\n",
            "Preparing to unpack .../5-libaprutil1_1.6.1-2_amd64.deb ...\n",
            "Unpacking libaprutil1:amd64 (1.6.1-2) ...\n",
            "Selecting previously unselected package libserf-1-1:amd64.\n",
            "Preparing to unpack .../6-libserf-1-1_1.3.9-6_amd64.deb ...\n",
            "Unpacking libserf-1-1:amd64 (1.3.9-6) ...\n",
            "Selecting previously unselected package libsvn1:amd64.\n",
            "Preparing to unpack .../7-libsvn1_1.9.7-4ubuntu1_amd64.deb ...\n",
            "Unpacking libsvn1:amd64 (1.9.7-4ubuntu1) ...\n",
            "Selecting previously unselected package libxpm-dev:amd64.\n",
            "Preparing to unpack .../8-libxpm-dev_1%3a3.5.12-1_amd64.deb ...\n",
            "Unpacking libxpm-dev:amd64 (1:3.5.12-1) ...\n",
            "Selecting previously unselected package subversion.\n",
            "Preparing to unpack .../9-subversion_1.9.7-4ubuntu1_amd64.deb ...\n",
            "Unpacking subversion (1.9.7-4ubuntu1) ...\n",
            "Setting up libapr1:amd64 (1.6.3-2) ...\n",
            "Setting up libxpm-dev:amd64 (1:3.5.12-1) ...\n",
            "Setting up binutils-common:amd64 (2.30-21ubuntu1~18.04.3) ...\n",
            "Setting up libaprutil1:amd64 (1.6.1-2) ...\n",
            "Setting up libbinutils:amd64 (2.30-21ubuntu1~18.04.3) ...\n",
            "Setting up libserf-1-1:amd64 (1.3.9-6) ...\n",
            "Setting up libsvn1:amd64 (1.9.7-4ubuntu1) ...\n",
            "Setting up binutils-x86-64-linux-gnu (2.30-21ubuntu1~18.04.3) ...\n",
            "Setting up subversion (1.9.7-4ubuntu1) ...\n",
            "Setting up binutils (2.30-21ubuntu1~18.04.3) ...\n",
            "Processing triggers for man-db (2.8.3-2ubuntu0.1) ...\n",
            "Processing triggers for libc-bin (2.27-3ubuntu1) ...\n",
            "/sbin/ldconfig.real: /usr/local/lib/python3.6/dist-packages/ideep4py/lib/libmkldnn.so.0 is not a symbolic link\n",
            "\n"
          ],
          "name": "stdout"
        }
      ]
    },
    {
      "cell_type": "markdown",
      "metadata": {
        "id": "3i5bTy4x601V",
        "colab_type": "text"
      },
      "source": [
        "### 2. Mount the drive to get the root binary and untar it "
      ]
    },
    {
      "cell_type": "code",
      "metadata": {
        "id": "gMhjqJ9noRcX",
        "colab_type": "code",
        "colab": {
          "base_uri": "https://localhost:8080/",
          "height": 122
        },
        "outputId": "12c32bb1-ff9d-4c9c-d485-7587c740d2cd"
      },
      "source": [
        "# Load the Drive helper and mount\n",
        "from google.colab import drive\n",
        "\n",
        "# This will prompt for authorization.\n",
        "drive.mount('/content/drive')"
      ],
      "execution_count": null,
      "outputs": [
        {
          "output_type": "stream",
          "text": [
            "Go to this URL in a browser: https://accounts.google.com/o/oauth2/auth?client_id=947318989803-6bn6qk8qdgf4n4g3pfee6491hc0brc4i.apps.googleusercontent.com&redirect_uri=urn%3aietf%3awg%3aoauth%3a2.0%3aoob&response_type=code&scope=email%20https%3a%2f%2fwww.googleapis.com%2fauth%2fdocs.test%20https%3a%2f%2fwww.googleapis.com%2fauth%2fdrive%20https%3a%2f%2fwww.googleapis.com%2fauth%2fdrive.photos.readonly%20https%3a%2f%2fwww.googleapis.com%2fauth%2fpeopleapi.readonly\n",
            "\n",
            "Enter your authorization code:\n",
            "··········\n",
            "Mounted at /content/drive\n"
          ],
          "name": "stdout"
        }
      ]
    },
    {
      "cell_type": "code",
      "metadata": {
        "id": "dt2PEUjQo0RY",
        "colab_type": "code",
        "colab": {
          "base_uri": "https://localhost:8080/",
          "height": 170
        },
        "outputId": "02a2901a-f18a-4957-c16b-8d8309b61913"
      },
      "source": [
        "# After executing the cell above, Drive\n",
        "# files will be present in \"/content/drive/My Drive\".\n",
        "!ls \"/content/drive/Shared drives/PyROOT_in_Google\""
      ],
      "execution_count": null,
      "outputs": [
        {
          "output_type": "stream",
          "text": [
            "BasicAnalysis.ipynb\t  FLUTEMI.WAV\n",
            "BasicPyROOTExample.ipynb  HistogrammingInROOT.ipynb\n",
            "Chi2Fitting.ipynb\t  MCSimpleIntegrator.ipynb\n",
            "Data5.root\t\t  monje-a-lo-bonzo-blanco-y-negro.png\n",
            "DatosParcial2\t\t  piano-C5.wav\n",
            "DatosProyectoMontecarlo   root_build_google_yikes.tar\n",
            "DatosResonancia.root\t  TrimmedTree.root\n",
            "FFT_imagen.ipynb\t  TTreeExcercise.ipynb\n",
            "FFT.ipynb\n"
          ],
          "name": "stdout"
        }
      ]
    },
    {
      "cell_type": "code",
      "metadata": {
        "id": "tRQGlQ4Hqau9",
        "colab_type": "code",
        "colab": {}
      },
      "source": [
        "!tar -xf \"/content/drive/Shared drives/PyROOT_in_Google/root_build_google_yikes.tar\""
      ],
      "execution_count": null,
      "outputs": []
    },
    {
      "cell_type": "code",
      "metadata": {
        "id": "DfLQ4DrprjLU",
        "colab_type": "code",
        "colab": {
          "base_uri": "https://localhost:8080/",
          "height": 85
        },
        "outputId": "e05461af-f53e-48ea-afc9-041c3a3a729d"
      },
      "source": [
        "!ls -ltrh"
      ],
      "execution_count": null,
      "outputs": [
        {
          "output_type": "stream",
          "text": [
            "total 12K\n",
            "drwxr-xr-x 44 root root 4.0K Sep 20  2018 root_build\n",
            "drwxr-xr-x  1 root root 4.0K Jul 10 16:29 sample_data\n",
            "drwx------  5 root root 4.0K Jul 28 16:38 drive\n"
          ],
          "name": "stdout"
        }
      ]
    },
    {
      "cell_type": "markdown",
      "metadata": {
        "id": "1nHFk9y68VVP",
        "colab_type": "text"
      },
      "source": [
        "\n",
        "### 3. Modify the PATH in order to tell python where to look for pyROOT\n"
      ]
    },
    {
      "cell_type": "code",
      "metadata": {
        "id": "N3ndoY6iu6_J",
        "colab_type": "code",
        "colab": {}
      },
      "source": [
        "import sys\n",
        "sys.path.append(\"/content/root_build/\")\n",
        "sys.path.append(\"/content/root_build/bin/\")\n",
        "sys.path.append(\"/content/root_build/include/\")\n",
        "sys.path.append(\"/content/root_build/lib/\")"
      ],
      "execution_count": null,
      "outputs": []
    },
    {
      "cell_type": "markdown",
      "metadata": {
        "id": "tKJN-8zIdc3Y",
        "colab_type": "text"
      },
      "source": [
        ""
      ]
    },
    {
      "cell_type": "markdown",
      "metadata": {
        "id": "yULNnS6nqNhT",
        "colab_type": "text"
      },
      "source": [
        "### Importing necessary libraries"
      ]
    },
    {
      "cell_type": "code",
      "metadata": {
        "id": "rGBwkzJ4DLAY",
        "colab_type": "code",
        "colab": {
          "base_uri": "https://localhost:8080/",
          "height": 34
        },
        "outputId": "b31e12fd-9eab-4511-a239-96cadcaab570"
      },
      "source": [
        "import ROOT\n",
        "import numpy as np\n",
        "import matplotlib.pyplot as plt"
      ],
      "execution_count": null,
      "outputs": [
        {
          "output_type": "stream",
          "text": [
            "Welcome to JupyROOT 6.14/04\n"
          ],
          "name": "stdout"
        }
      ]
    },
    {
      "cell_type": "markdown",
      "metadata": {
        "id": "wTIqBY-LGj4V",
        "colab_type": "text"
      },
      "source": [
        "#Proyecto técnicas de Montecarlo\n",
        "\n",
        "\n",
        "*   Andrés Gomez\n",
        "*   Jhoan Eusse"
      ]
    },
    {
      "cell_type": "code",
      "metadata": {
        "id": "bFeaHTsud8DV",
        "colab_type": "code",
        "colab": {}
      },
      "source": [
        "def Landau(x,u,s): #u: mu, s: sigma\n",
        "  Land = ROOT.TMath.Landau(x,u,s,True) #the n\n",
        "  return Land\n",
        "\n",
        "#Definiendo ecuación Chi cuadrado\n",
        "def Chi(xe,xt): #xe=experimental, xt=teorico\n",
        "    chi=[]\n",
        "    for i in range(len(xe)):\n",
        "        if xe[i] != 0:\n",
        "          chi_s = ((xe[i]-xt[i])**2)/abs(xe[i])\n",
        "          chi.append(chi_s)\n",
        "    return np.array(chi)"
      ],
      "execution_count": null,
      "outputs": []
    },
    {
      "cell_type": "markdown",
      "metadata": {
        "id": "Uw1iSG5bqSZ6",
        "colab_type": "text"
      },
      "source": [
        "### Reading tree in root file"
      ]
    },
    {
      "cell_type": "code",
      "metadata": {
        "id": "I8zyzA2-pn0i",
        "colab_type": "code",
        "colab": {
          "base_uri": "https://localhost:8080/",
          "height": 34
        },
        "outputId": "25da344f-a3a8-4186-c623-2e5176c719e4"
      },
      "source": [
        "#DataChain=ROOT.TChain(\"SystemTree\")\n",
        "#DataChain.Add(\"/content/drive/My Drive/UdeA/2020_1_b/JhoanCamiloEusse.root\")\n",
        "\n",
        "DataChain=ROOT.TChain(\"SystemTree\")\n",
        "DataChain.Add(\"/content/drive/My Drive/ComputacionMontecarlo/JhoanCamiloEusse.root\")\n",
        "\n",
        "\n",
        "DataChain2=ROOT.TChain(\"SystemTree\")\n",
        "DataChain2.Add(\"/content/drive/My Drive/ComputacionMontecarlo/AndresFelipeGomez.root\")"
      ],
      "execution_count": null,
      "outputs": [
        {
          "output_type": "execute_result",
          "data": {
            "text/plain": [
              "1"
            ]
          },
          "metadata": {
            "tags": []
          },
          "execution_count": 10
        }
      ]
    },
    {
      "cell_type": "markdown",
      "metadata": {
        "id": "OYjoY3-Yqkuo",
        "colab_type": "text"
      },
      "source": [
        "### Getting the number of events contained in the tree"
      ]
    },
    {
      "cell_type": "code",
      "metadata": {
        "id": "0xu0PEvRqev9",
        "colab_type": "code",
        "colab": {
          "base_uri": "https://localhost:8080/",
          "height": 34
        },
        "outputId": "06f2147c-5b24-4eee-ef79-097d51eff6aa"
      },
      "source": [
        "NumberOfEventsToCheck=DataChain2.GetEntries()\n",
        "print(\"We are going to analyze \",NumberOfEventsToCheck, \" events\")"
      ],
      "execution_count": null,
      "outputs": [
        {
          "output_type": "stream",
          "text": [
            "We are going to analyze  85000  events\n"
          ],
          "name": "stdout"
        }
      ]
    },
    {
      "cell_type": "code",
      "metadata": {
        "id": "aBSMdBk9sxw_",
        "colab_type": "code",
        "colab": {}
      },
      "source": [
        "Histo = ROOT.TH1F( 'Histo1', 'Histograma Jhoan', 250, 0, 1800 )\n",
        "freq=[]\n",
        "for entry in DataChain:\n",
        "  xv=entry.x\n",
        "  Histo.Fill(xv)\n",
        "  freq.append(xv)\n",
        "\n",
        "Histo2 = ROOT.TH1F( 'Histo2', 'Histograma Andres', 250, 0, 1800 )\n",
        "freq2=[]\n",
        "for entry in DataChain2:\n",
        "  xv=entry.x\n",
        "  Histo2.Fill(xv)\n",
        "  freq2.append(xv)"
      ],
      "execution_count": null,
      "outputs": []
    },
    {
      "cell_type": "code",
      "metadata": {
        "id": "CV1APNiP1r_y",
        "colab_type": "code",
        "colab": {
          "base_uri": "https://localhost:8080/",
          "height": 889
        },
        "outputId": "c3bea439-cc5f-4e6a-f5e9-3c523cfae18b"
      },
      "source": [
        "c1 = ROOT.TCanvas( 'can1', 'Histograma Eusse', 200, 10, 700, 900 )\n",
        "c1.SetFillColor( 0 )\n",
        "Histo.Draw()\n",
        "c1.Update()\n",
        "ROOT.gROOT.GetListOfCanvases().Draw()\n"
      ],
      "execution_count": null,
      "outputs": [
        {
          "output_type": "display_data",
          "data": {
            "image/png": "[encoded data removed]",
            "text/plain": [
              "<IPython.core.display.Image object>"
            ]
          },
          "metadata": {
            "tags": []
          }
        }
      ]
    },
    {
      "cell_type": "code",
      "metadata": {
        "id": "GED-_E0NSunL",
        "colab_type": "code",
        "colab": {
          "base_uri": "https://localhost:8080/",
          "height": 906
        },
        "outputId": "cce2cbc4-9fa5-465f-c28d-b044fa4db748"
      },
      "source": [
        "c2 = ROOT.TCanvas( 'can1', 'Histograma Andres', 200, 10, 700, 900 )\n",
        "c2.SetFillColor( 0 )\n",
        "Histo2.Draw()\n",
        "c2.Update()\n",
        "ROOT.gROOT.GetListOfCanvases().Draw()"
      ],
      "execution_count": null,
      "outputs": [
        {
          "output_type": "stream",
          "text": [
            "Warning in <TCanvas::Constructor>: Deleting canvas with same name: can1\n"
          ],
          "name": "stderr"
        },
        {
          "output_type": "display_data",
          "data": {
            "image/png": "[encoded data removed]",
            "text/plain": [
              "<IPython.core.display.Image object>"
            ]
          },
          "metadata": {
            "tags": []
          }
        }
      ]
    },
    {
      "cell_type": "markdown",
      "metadata": {
        "id": "GWt-0dfV30ph",
        "colab_type": "text"
      },
      "source": [
        "**Algoritmo de Metrópolis**\n",
        "\n",
        "\n",
        "\n",
        "1.   Elegir un $x_0$ aleatorio garantizando que $p(x_0)$ sea diferente de cero, (distribución uniforme entre 50 y 1800).\n",
        "2.   Elegir un $x_n$ aleatorio garantizando que $p(x_n)$ sea diferente de cero, (distribución uniforme entre 50 y 1800).\n",
        "3. Caluclar $\\Delta S = - ln( \\frac{p(x_n)}{p(x_0)})$\n",
        "4. Si $\\Delta S < 0$ guardar estado $x_n$\n",
        "5. Si $\\Delta S > 0$ generar $r$ aleatorio (distribución uniforme entre 0 y 1), si $r < \\frac{p(x_n)}{p(x_0)}$ gurdar $x_n$ como estado\n",
        "6. Si no se dan 4. o 5. volver a punto 2.\n",
        "7. Para la posterior iteración cambia $x_0$ por $x_n$ y $x_n$ por un nuevo numero aleatorio $x_{n+1}$ y ya nos fijamos en $\n",
        "- ln( \\frac{p(x_{n+1})}{p(x_n)})$ y $\\frac{p(x_{n+1})}{p(x_n)}$   \n",
        "\n",
        "Todos estos pasos se repiten hasta tener 85000 estados almacenados, la función densidad de probabilidad $p(x)$ usada es la función de distribución de probabilidad de Landau con parámetros $\\mu$ y $\\sigma$ que se optimizan.\n",
        "\n",
        "\n",
        "\n"
      ]
    },
    {
      "cell_type": "markdown",
      "metadata": {
        "id": "XHA5u21xAPPi",
        "colab_type": "text"
      },
      "source": [
        "**Chi cuadrado**\n",
        "\n",
        "$$\\chi^{2}=\\sum\\frac{(D_{i}-C_{i})^{2}}{|Ci|}$$"
      ]
    },
    {
      "cell_type": "code",
      "metadata": {
        "id": "Df-8IfB10AUQ",
        "colab_type": "code",
        "colab": {}
      },
      "source": [
        "def Metroplis(mu,si,k):\n",
        "  u=mu #mu\n",
        "  s=si #sigma\n",
        "  X=[]\n",
        "  x0=np.random.uniform(50,1800,1)[0]\n",
        "  if Landau(x0,u,s) == 0 :\n",
        "    while Landau(x0,u,s) == 0 :\n",
        "      x0=np.random.uniform(50,1800,1)[0]\n",
        "  X.append(x0)\n",
        "\n",
        " \n",
        " \n",
        "  ##print(X[-1])\n",
        "  \n",
        "\n",
        "  #Metropolis algorithm\n",
        "  while len(X)< len(freq2):\n",
        "    xs=np.random.uniform(50,1800,1)[0]\n",
        "    if Landau(xs,u,s) != 0:\n",
        "      dels=-np.log(Landau(xs,u,s)/Landau(X[-1],u,s))\n",
        "      if dels < 0:\n",
        "        X.append(xs)\n",
        "      elif dels > 0:\n",
        "        r=np.random.uniform(0,1,1)[0]\n",
        "        if r < Landau(xs,u,s)/Landau(X[-1],u,s):\n",
        "          X.append(xs)\n",
        "\n",
        " \n",
        "\n",
        "  if k==0 : #Histograma Eusse\n",
        "    binesrt1=[]\n",
        "\n",
        "    for i in range (250):\n",
        "      if Histo.GetBinContent(i) != 0:\n",
        "        binesrt1.append(Histo.GetBinContent(i))\n",
        "\n",
        "    histopy=np.histogram(X, bins=len(binesrt1))\n",
        "    binespy=histopy[0]\n",
        "\n",
        "    return binespy, np.array(binesrt1), X\n",
        "\n",
        "  if k==1 : #Histograma Andres\n",
        "    binesrt2=[]\n",
        "\n",
        "    for i in range (250):\n",
        "      if Histo2.GetBinContent(i) != 0:\n",
        "        binesrt2.append(Histo2.GetBinContent(i))\n",
        "\n",
        "    histopy=np.histogram(X, bins=len(binesrt2))\n",
        "    binespy=histopy[0]\n",
        "\n",
        "    return binespy, np.array(binesrt2), X\n"
      ],
      "execution_count": null,
      "outputs": []
    },
    {
      "cell_type": "code",
      "metadata": {
        "id": "DCqltyrg-vkn",
        "colab_type": "code",
        "colab": {
          "base_uri": "https://localhost:8080/",
          "height": 1000
        },
        "outputId": "a6fa675d-5d7e-4d22-adef-7ececf33e0a9"
      },
      "source": [
        "chi1=[] #CHI JHOAN\n",
        "chi2=[] #CHI ANDRES\n",
        "parametros1=[] #PARAMETROS JHOAN\n",
        "\n",
        "U1=np.linspace(190,220,5) \n",
        "S1=np.linspace(5,7,5)\n",
        "\n",
        "U2=np.linspace(105,110,5)\n",
        "S2=np.linspace(5,7,5)\n",
        "parametros2=[] #PARAMETROS ANDRES\n",
        "\n",
        "kk=[0,1]\n",
        "\n",
        "\n",
        "for k in kk: \n",
        "  if k==0 :\n",
        "    for i in  U1:\n",
        "      for j in S1:\n",
        "        a=[]\n",
        "        expe, teo, cc= Metroplis(i,j,k)\n",
        "        CH=Chi(expe,teo)\n",
        "        chi1.append(np.sum(CH))\n",
        "        a.append(i)\n",
        "        a.append(j)\n",
        "        parametros1.append(a)\n",
        "    Minimo1=min(chi1)\n",
        "    print(\"Chi cuadrado mínimo Jhoan: {}\".format(Minimo1/len(expe)))\n",
        "    for p in range(len(parametros1)):\n",
        "      if chi1[p]== Minimo1:\n",
        "        print(\"Lista de parametros optimos [mu,sigma]:\")\n",
        "        print(parametros1[p])\n",
        "        #print(p)\n",
        "        a,b,c= Metroplis(parametros1[p][0],parametros1[p][1],k)\n",
        "        plt.hist(c, bins=len(expe))\n",
        "    \n",
        "        Histoc = ROOT.TH1F( 'Histocc', 'Histograma ', 250, 0, 1800 )\n",
        "        for i in range(len(cc)):\n",
        "          Histoc.Fill(c[i])\n",
        "        c3 = ROOT.TCanvas( 'can3', 'Histograma Eusse', 200, 10, 700, 900 )\n",
        "        c3.SetFillColor( 0 )\n",
        "        Histo.Draw()\n",
        "        c3.Update()\n",
        "        ROOT.gROOT.GetListOfCanvases().Draw()\n",
        "\n",
        "        Histoc.Draw(\"same\")\n",
        "        Histoc.SetLineColor(2)\n",
        "        c3.Update()\n",
        "        ROOT.gROOT.GetListOfCanvases().Draw()\n",
        "\n",
        "  if k==1 :\n",
        "    for i in  U2:\n",
        "      for j in S2:\n",
        "        a=[]\n",
        "        expe, teo, cc= Metroplis(i,j,k)\n",
        "        CH=Chi(expe,teo)\n",
        "        chi2.append(np.sum(CH))\n",
        "        a.append(i)\n",
        "        a.append(j)\n",
        "        parametros2.append(a)\n",
        "\n",
        "    Minimo2=min(chi2)\n",
        "    print(\"Chi cuadrado mínimo Andres: {}\".format(Minimo2/len(expe)))\n",
        "    for p in range(len(parametros2)):\n",
        "      if chi2[p]== Minimo2:\n",
        "        print(\"Lista de parametros optimos [mu,sigma]:\")\n",
        "        print(parametros2[p])\n",
        "        #print(p)\n",
        "        a,b,c= Metroplis(parametros2[p][0],parametros2[p][1],k)\n",
        "        plt.hist(c, bins=len(expe))\n",
        "    \n",
        "        Histocc = ROOT.TH1F( 'Histocc', 'Histograma A ', 250, 0, 1800 )\n",
        "        for i in range(len(cc)):\n",
        "          Histocc.Fill(c[i])\n",
        "        c4 = ROOT.TCanvas( 'can4', 'Histograma Andres', 200, 10, 700, 900 )\n",
        "        c4.SetFillColor( 0 )\n",
        "        Histo2.Draw()\n",
        "        c4.Update()\n",
        "        ROOT.gROOT.GetListOfCanvases().Draw()\n",
        "\n",
        "        Histocc.Draw(\"same\")\n",
        "        Histocc.SetLineColor(2)\n",
        "        c4.Update()\n",
        "        ROOT.gROOT.GetListOfCanvases().Draw()       "
      ],
      "execution_count": null,
      "outputs": [
        {
          "output_type": "stream",
          "text": [
            "Chi cuadrado mínimo Jhoan: 179.3738778079039\n",
            "Lista de parametros optimos [mu,sigma]:\n",
            "[205.0, 7.0]\n",
            "Chi cuadrado mínimo Andres: 125.53856493230963\n",
            "Lista de parametros optimos [mu,sigma]:\n",
            "[105.0, 6.0]\n"
          ],
          "name": "stdout"
        },
        {
          "output_type": "display_data",
          "data": {
            "image/png": "[encoded data removed]",
            "text/plain": [
              "<Figure size 432x288 with 1 Axes>"
            ]
          },
          "metadata": {
            "tags": [],
            "needs_background": "light"
          }
        },
        {
          "output_type": "stream",
          "text": [
            "Warning in <TROOT::Append>: Replacing existing TH1: Histocc (Potential memory leak).\n",
            "Warning in <TCanvas::Constructor>: Deleting canvas with same name: can3\n",
            "Warning in <TROOT::Append>: Replacing existing TH1: Histocc (Potential memory leak).\n",
            "Warning in <TCanvas::Constructor>: Deleting canvas with same name: can4\n"
          ],
          "name": "stderr"
        },
        {
          "output_type": "display_data",
          "data": {
            "image/png": "[encoded data removed]",
            "text/plain": [
              "<IPython.core.display.Image object>"
            ]
          },
          "metadata": {
            "tags": []
          }
        },
        {
          "output_type": "display_data",
          "data": {
            "image/png": "[encoded data removed]",
            "text/plain": [
              "<IPython.core.display.Image object>"
            ]
          },
          "metadata": {
            "tags": []
          }
        }
      ]
    },
    {
      "cell_type": "markdown",
      "metadata": {
        "id": "KooRrVsN-Hqa",
        "colab_type": "text"
      },
      "source": [
        "**Curva azul:** Experimental\n",
        "\n",
        "**Curva roja:** Ajuste computacional"
      ]
    },
    {
      "cell_type": "markdown",
      "metadata": {
        "id": "A0DB-5iY8abj",
        "colab_type": "text"
      },
      "source": [
        "**Conclusiones**\n",
        "\n",
        "\n",
        "\n",
        "*   Dada la aleatoriedad del problema, los parámetros óptimos para $\\mu$ y $\\sigma$ varían levemente cada vez que se ejecuta el código, lo mismo sucede para el valor mínimo de Chicuadrado.\n",
        "*   Se pueden aproximar datos experimentales usando métodos computancionales que generen muestras aleatorias como es el caso del algoritmo de Metrópolis.\n",
        "\n"
      ]
    }
  ]
}