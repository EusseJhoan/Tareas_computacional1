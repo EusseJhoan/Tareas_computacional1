{
  "nbformat": 4,
  "nbformat_minor": 0,
  "metadata": {
    "colab": {
      "name": "Tarea_MC.ipynb",
      "provenance": [],
      "collapsed_sections": [],
      "authorship_tag": "ABX9TyPVSp9Rew8Wz4RpV8zef5LR"
    },
    "kernelspec": {
      "name": "python3",
      "display_name": "Python 3"
    }
  },
  "cells": [
    {
      "cell_type": "code",
      "metadata": {
        "id": "I6xzPMMoL0Bz",
        "colab_type": "code",
        "colab": {}
      },
      "source": [
        "import numpy as np\n",
        "import matplotlib.pyplot as plt"
      ],
      "execution_count": null,
      "outputs": []
    },
    {
      "cell_type": "code",
      "metadata": {
        "id": "3odnVKMbL7Ce",
        "colab_type": "code",
        "colab": {}
      },
      "source": [
        "#Funcion a integrar\n",
        "def f(x):\n",
        "  return (x-10)**2+5\n",
        "\n",
        "#Funcion densidad de probabilidad Gaussiana\n",
        "def p(x,s):\n",
        "  return (1/(s*np.sqrt(2*np.pi)))*np.exp(-(x-10)**2 / (2*s**2))\n",
        "\n",
        "#Integración Montecarlo\n",
        "def MC(f,N):\n",
        "  E=(1/N)*np.sum(f) \n",
        "  S=np.sqrt((1/N)*np.sum(f**2)- E**2) \n",
        "  return E, S\n",
        "\n",
        "#Integración Montecarlo con muestreo por importancia\n",
        "def MCI(f,p,N):\n",
        "  E=(1/N)*np.sum(f/p)  \n",
        "  S=np.sqrt((1/N)*np.sum((f/p)**2)- E**2)\n",
        "  return E, S"
      ],
      "execution_count": null,
      "outputs": []
    },
    {
      "cell_type": "code",
      "metadata": {
        "id": "TXXONfrTTbQF",
        "colab_type": "code",
        "colab": {
          "base_uri": "https://localhost:8080/",
          "height": 86
        },
        "outputId": "4ea75ec2-f0ba-49d4-ec27-eab2e77438ed"
      },
      "source": [
        "E_list=[]\n",
        "S2_list=[]\n",
        "EMC=[]\n",
        "SMC=[]\n",
        "S=np.linspace(3,10,100) #Lista con diferentes desviaciones estándar para función Gaussiana\n",
        "sig=[]\n",
        "\n",
        "#Optimización de desviación estandar y estimación por Montecarlo\n",
        "for i in S:\n",
        "  rand_arr=np.random.normal(10, i, 500000)\n",
        "  idx= np.where(np.logical_and( rand_arr>= 0, rand_arr<= 13))[0]\n",
        "  xn=np.take(rand_arr,idx)\n",
        "  e,s = MCI(f(xn),p(xn,i),len(rand_arr)) #Muestreo por importancia\n",
        "  emc,smc = MC(f(xn),len(idx)) #Montecarlo básico\n",
        "  E_list.append(e)\n",
        "  S2_list.append(s)\n",
        "  EMC.append(emc)\n",
        "  SMC.append(smc)\n",
        "  sig.append(i)\n",
        "\n",
        "S_min=np.amin(S2_list)\n",
        "n=np.where(S2_list ==S_min )[0][0]\n",
        "\n",
        "\n",
        "print(\"Muestro por importancia:\")\n",
        "print(\"Estimación integral: {}, Error estadístico: {}, Valor óptimo de \\u03C3: {}\".format(E_list[n],S_min,sig[n]))\n",
        "print(\"Montecarlo básico:\")\n",
        "print(\"Estimación integral: {}, Error estadístico: {}\".format(13*EMC[n],SMC[n]))"
      ],
      "execution_count": null,
      "outputs": [
        {
          "output_type": "stream",
          "text": [
            "Muestro por importancia:\n",
            "Estimación integral: 406.2234919785912, Error estadístico: 810.3246556843, Valor óptimo de σ: 8.373737373737374\n",
            "Montecarlo básico:\n",
            "Estimación integral: 335.88673655115986, Error estadístico: 25.874837895965936\n"
          ],
          "name": "stdout"
        }
      ]
    }
  ]
}